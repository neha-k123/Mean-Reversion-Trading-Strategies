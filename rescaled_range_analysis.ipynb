{
 "cells": [
  {
   "cell_type": "code",
   "execution_count": 7,
   "metadata": {},
   "outputs": [],
   "source": [
    "import pandas as pd \n",
    "#import pandas_datareader as pdr  \n",
    "import yfinance as yf\n",
    "import numpy as np \n",
    "import matplotlib.pyplot as plt \n",
    "from matplotlib import rcParams\n",
    "rcParams['figure.figsize'] = 8, 6\n",
    "import seaborn as sb \n",
    "sb.set()\n"
   ]
  },
  {
   "cell_type": "code",
   "execution_count": 8,
   "metadata": {},
   "outputs": [],
   "source": [
    "ticker = \"^SPX\""
   ]
  },
  {
   "cell_type": "code",
   "execution_count": 9,
   "metadata": {},
   "outputs": [
    {
     "name": "stderr",
     "output_type": "stream",
     "text": [
      "[*********************100%%**********************]  1 of 1 completed"
     ]
    },
    {
     "name": "stdout",
     "output_type": "stream",
     "text": [
      "                   Open         High          Low        Close    Adj Close  \\\n",
      "Date                                                                          \n",
      "2000-01-03  1469.250000  1478.000000  1438.359985  1455.219971  1455.219971   \n",
      "2000-01-04  1455.219971  1455.219971  1397.430054  1399.420044  1399.420044   \n",
      "2000-01-05  1399.420044  1413.270020  1377.680054  1402.109985  1402.109985   \n",
      "2000-01-06  1402.109985  1411.900024  1392.099976  1403.449951  1403.449951   \n",
      "2000-01-07  1403.449951  1441.469971  1400.729980  1441.469971  1441.469971   \n",
      "\n",
      "                Volume  \n",
      "Date                    \n",
      "2000-01-03   931800000  \n",
      "2000-01-04  1009000000  \n",
      "2000-01-05  1085500000  \n",
      "2000-01-06  1092300000  \n",
      "2000-01-07  1225200000  \n"
     ]
    },
    {
     "name": "stderr",
     "output_type": "stream",
     "text": [
      "\n"
     ]
    }
   ],
   "source": [
    "data = yf.download(ticker, start=\"2000-01-01\" , end=\"2024-01-01\")\n",
    "print(data.head())"
   ]
  },
  {
   "cell_type": "code",
   "execution_count": 10,
   "metadata": {},
   "outputs": [
    {
     "name": "stdout",
     "output_type": "stream",
     "text": [
      "6037\n"
     ]
    }
   ],
   "source": [
    "data_length = len(data)\n",
    "print(data_length)"
   ]
  },
  {
   "cell_type": "code",
   "execution_count": 13,
   "metadata": {},
   "outputs": [
    {
     "name": "stdout",
     "output_type": "stream",
     "text": [
      "Range 1\n",
      "3018\n",
      "Range 2\n",
      "1509\n",
      "Range 3\n",
      "754\n",
      "Range 4\n",
      "377\n",
      "Range 5\n",
      "188\n",
      "3018\n",
      "3018\n",
      "1\n",
      "1509\n",
      "1509\n",
      "1509\n",
      "1509\n",
      "1\n",
      "754\n",
      "754\n",
      "754\n",
      "754\n",
      "754\n",
      "754\n",
      "754\n",
      "754\n",
      "5\n",
      "377\n",
      "377\n",
      "377\n",
      "377\n",
      "377\n",
      "377\n",
      "377\n",
      "377\n",
      "377\n",
      "377\n",
      "377\n",
      "377\n",
      "377\n",
      "377\n",
      "377\n",
      "377\n",
      "5\n",
      "188\n",
      "188\n",
      "188\n",
      "188\n",
      "188\n",
      "188\n",
      "188\n",
      "188\n",
      "188\n",
      "188\n",
      "188\n",
      "188\n",
      "188\n",
      "188\n",
      "188\n",
      "188\n",
      "188\n",
      "188\n",
      "188\n",
      "188\n",
      "188\n",
      "188\n",
      "188\n",
      "188\n",
      "188\n",
      "188\n",
      "188\n",
      "188\n",
      "188\n",
      "188\n",
      "188\n",
      "188\n",
      "21\n"
     ]
    }
   ],
   "source": [
    "# Choose ranges to be analyzed. Use power of two. The first range should be the entire length of the data entry, the second range should be two halves, the third range should be four quarters, etc. Stop at 1/32 of the data entry.\n",
    "\n",
    "\n",
    "series_to_analyze = []\n",
    "for i in range(1, 6):\n",
    "    print(\"Range\", i)\n",
    "    print(data_length//2**i)\n",
    "    current_series = []\n",
    "    for j in range(0, data_length, data_length//2**i):\n",
    "        current_series.append(data.iloc[j:j+data_length//2**i])\n",
    "    series_to_analyze.append(current_series)"
   ]
  },
  {
   "cell_type": "code",
   "execution_count": null,
   "metadata": {},
   "outputs": [],
   "source": []
  }
 ],
 "metadata": {
  "kernelspec": {
   "display_name": "Python 3",
   "language": "python",
   "name": "python3"
  },
  "language_info": {
   "codemirror_mode": {
    "name": "ipython",
    "version": 3
   },
   "file_extension": ".py",
   "mimetype": "text/x-python",
   "name": "python",
   "nbconvert_exporter": "python",
   "pygments_lexer": "ipython3",
   "version": "3.11.3"
  }
 },
 "nbformat": 4,
 "nbformat_minor": 2
}
