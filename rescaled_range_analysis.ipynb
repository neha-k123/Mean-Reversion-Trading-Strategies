{
 "cells": [
  {
   "cell_type": "code",
   "execution_count": 4,
   "metadata": {},
   "outputs": [],
   "source": [
    "import pandas as pd \n",
    "#import pandas_datareader as pdr  \n",
    "import yfinance as yf\n",
    "import numpy as np \n",
    "import matplotlib.pyplot as plt \n",
    "from matplotlib import rcParams\n",
    "rcParams['figure.figsize'] = 8, 6\n",
    "import seaborn as sb \n",
    "sb.set()"
   ]
  },
  {
   "cell_type": "code",
   "execution_count": 23,
   "metadata": {},
   "outputs": [],
   "source": [
    "ticker = \"^SPX\"\n",
    "start=\"2000-01-01\" \n",
    "end=\"2024-01-01\"\n",
    "\n"
   ]
  },
  {
   "cell_type": "code",
   "execution_count": 24,
   "metadata": {},
   "outputs": [
    {
     "name": "stderr",
     "output_type": "stream",
     "text": [
      "[*********************100%%**********************]  1 of 1 completed"
     ]
    },
    {
     "name": "stdout",
     "output_type": "stream",
     "text": [
      "                   Open         High          Low        Close    Adj Close  \\\n",
      "Date                                                                          \n",
      "2000-01-03  1469.250000  1478.000000  1438.359985  1455.219971  1455.219971   \n",
      "2000-01-04  1455.219971  1455.219971  1397.430054  1399.420044  1399.420044   \n",
      "2000-01-05  1399.420044  1413.270020  1377.680054  1402.109985  1402.109985   \n",
      "2000-01-06  1402.109985  1411.900024  1392.099976  1403.449951  1403.449951   \n",
      "2000-01-07  1403.449951  1441.469971  1400.729980  1441.469971  1441.469971   \n",
      "\n",
      "                Volume  \n",
      "Date                    \n",
      "2000-01-03   931800000  \n",
      "2000-01-04  1009000000  \n",
      "2000-01-05  1085500000  \n",
      "2000-01-06  1092300000  \n",
      "2000-01-07  1225200000  \n"
     ]
    },
    {
     "name": "stderr",
     "output_type": "stream",
     "text": [
      "\n"
     ]
    }
   ],
   "source": [
    "data = yf.download(ticker, start, end)\n",
    "print(data.head())"
   ]
  },
  {
   "cell_type": "code",
   "execution_count": null,
   "metadata": {},
   "outputs": [],
   "source": []
  },
  {
   "cell_type": "code",
   "execution_count": 26,
   "metadata": {},
   "outputs": [
    {
     "name": "stdout",
     "output_type": "stream",
     "text": [
      "6037\n"
     ]
    }
   ],
   "source": [
    "range = len(data)\n",
    "print(range)"
   ]
  },
  {
   "cell_type": "code",
   "execution_count": null,
   "metadata": {},
   "outputs": [],
   "source": []
  }
 ],
 "metadata": {
  "kernelspec": {
   "display_name": "Python 3",
   "language": "python",
   "name": "python3"
  },
  "language_info": {
   "codemirror_mode": {
    "name": "ipython",
    "version": 3
   },
   "file_extension": ".py",
   "mimetype": "text/x-python",
   "name": "python",
   "nbconvert_exporter": "python",
   "pygments_lexer": "ipython3",
   "version": "3.12.1"
  }
 },
 "nbformat": 4,
 "nbformat_minor": 2
}
